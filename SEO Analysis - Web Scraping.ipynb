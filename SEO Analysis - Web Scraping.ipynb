{
 "cells": [
  {
   "cell_type": "markdown",
   "id": "56d85948",
   "metadata": {},
   "source": [
    "# SEO Analysis - Web Scraping"
   ]
  },
  {
   "cell_type": "markdown",
   "id": "d0e9d04d",
   "metadata": {},
   "source": [
    "This SEO analyzer works is just based on some simple criteria that is and H1 should be present or some other headings all the images should have an ALT attribute and there should be a meta description and the website should have a title so"
   ]
  },
  {
   "cell_type": "code",
   "execution_count": 1,
   "id": "8f3855e9",
   "metadata": {},
   "outputs": [
    {
     "name": "stderr",
     "output_type": "stream",
     "text": [
      "[nltk_data] Downloading package stopwords to\n",
      "[nltk_data]     C:\\Users\\AMF29\\AppData\\Roaming\\nltk_data...\n",
      "[nltk_data]   Package stopwords is already up-to-date!\n",
      "[nltk_data] Downloading package punkt to\n",
      "[nltk_data]     C:\\Users\\AMF29\\AppData\\Roaming\\nltk_data...\n",
      "[nltk_data]   Package punkt is already up-to-date!\n"
     ]
    }
   ],
   "source": [
    "# import libraries \n",
    "\n",
    "from bs4 import BeautifulSoup\n",
    "import requests\n",
    "import pandas as pd\n",
    "import nltk\n",
    "from nltk.tokenize import word_tokenize\n",
    "nltk.download('stopwords')\n",
    "nltk.download('punkt') \n",
    "from nltk.util import ngrams"
   ]
  },
  {
   "cell_type": "code",
   "execution_count": 2,
   "id": "82dc1e80",
   "metadata": {},
   "outputs": [],
   "source": [
    "def seo_analysis(url):\n",
    "    # Save the good and the warnings in lists\n",
    "    good = []\n",
    "    bad = []\n",
    "    \n",
    "    # Send a GET request to the website\n",
    "    response = requests.get(url)\n",
    "    \n",
    "    # Check the response status code\n",
    "    if response.status_code != 200:\n",
    "        print(\"Error: Unable to access the website.\")\n",
    "        return\n",
    "    \n",
    "    # Parse the HTML content\n",
    "    soup = BeautifulSoup(response.content, 'html.parser')\n",
    "\n",
    "    # Extract the title and description\n",
    "    title = soup.find('title').get_text()\n",
    "    description = soup.find('meta', attrs={'name': 'description'})['content']\n",
    "    \n",
    "    \n",
    "    # Check if the title and description exist\n",
    "    if title:\n",
    "        good.append(\"Title Exists! Great!\")\n",
    "    else:\n",
    "        bad.append(\"Title does not exist! Add a Title\")\n",
    "\n",
    "    if description:\n",
    "        good.append(\"Description Exists! Great!\")\n",
    "    else:\n",
    "        bad.append(\"Description does not exist! Add a Meta Description\")    \n",
    "    \n",
    "    # Grab the Headings\n",
    "    hs = ['h1', 'h2', 'h3', 'h4', 'h5', 'h6']\n",
    "    h_tags = []\n",
    "    for h in soup.find_all(hs):\n",
    "        good.append(f\"{h.name}-->{h.text.strip()}\")\n",
    "        h_tags.append(h.name)\n",
    "\n",
    "    if 'h1' not in h_tags:\n",
    "        bad.append(\"No H1 found!\")\n",
    "\n",
    "    # Extract the images without Alt\n",
    "    for i in soup.find_all('img', alt=''):\n",
    "        bad.append(f\"No Alt: {i}\") \n",
    "\n",
    "    # Extract the images without Alt\n",
    "    for i in soup.find_all('img', alt=''):\n",
    "        bad.append(f\"No Alt: {i}\")    \n",
    "        \n",
    "    # Extract keywords\n",
    "    # Grab the text from the body of html\n",
    "    body = soup.find('body').text\n",
    "\n",
    "    # Extract all the words in the body and lowercase them in a list\n",
    "    words = [i.lower() for i in word_tokenize(body)]\n",
    "    \n",
    "    # Extract bigrams from the tokens (each two words that came together) \n",
    "    bigrams =  ngrams(words,2)\n",
    "    freqBigrams = nltk.FreqDist(bigrams)\n",
    "    Bigrams_keywords= freqBigrams.most_common(10)    \n",
    "\n",
    "    # Grab a list of English stopwords\n",
    "    stop_words = nltk.corpus.stopwords.words('english')\n",
    "    \n",
    "    new_words = []\n",
    "    # create a list that have the tokens which are not stopwords and are actual words (no punctuation) in a new list\n",
    "    for i in words:\n",
    "        if i not in stop_words and i.isalpha():\n",
    "            new_words.append(i)\n",
    "\n",
    "    # Extract the fequency of the words and get the 10 most common ones\n",
    "    freq = nltk.FreqDist(new_words)\n",
    "    keywords= freq.most_common(10)\n",
    "\n",
    "    # Print the results\n",
    "    print(\"Keywords: \", keywords)\n",
    "    print(\" \")\n",
    "    print(\"Bigrams Keywords: \", Bigrams_keywords)\n",
    "    print(\" \")\n",
    "    print(\"The Good: \", good)\n",
    "    print(\" \")\n",
    "    print(\"The Bad: \", bad)"
   ]
  },
  {
   "cell_type": "markdown",
   "id": "bad97184",
   "metadata": {},
   "source": [
    "### Example form Random Medium Articles"
   ]
  },
  {
   "cell_type": "code",
   "execution_count": 3,
   "id": "82943ab3",
   "metadata": {},
   "outputs": [
    {
     "name": "stdout",
     "output_type": "stream",
     "text": [
      "Keywords:  [('seo', 4), ('upsign', 2), ('content', 2), ('performance', 2), ('people', 2), ('open', 1), ('appsign', 1), ('inwritesign', 1), ('storyhow', 1), ('track', 1)]\n",
      " \n",
      "Bigrams Keywords:  [(('seo', '&'), 2), (('&', 'content'), 2), (('open', 'in'), 1), (('in', 'appsign'), 1), (('appsign', 'upsign'), 1), (('upsign', 'inwritesign'), 1), (('inwritesign', 'upsign'), 1), (('upsign', 'inmember-only'), 1), (('inmember-only', 'storyhow'), 1), (('storyhow', 'to'), 1)]\n",
      " \n",
      "The Good:  ['Title Exists! Great!', 'Description Exists! Great!', 'h1-->How to Track SEO & Content Performance, and Automate Your SEO Reports for Free', 'h2-->Particularly useful for measuring SEO & content optimization efforts', 'h2-->Written by Yiqian']\n",
      " \n",
      "The Bad:  ['No Alt: <img alt=\"\" class=\"l fc bx by bz cw\" height=\"32\" loading=\"lazy\" role=\"presentation\" src=\"https://miro.medium.com/v2/resize:fill:64:64/1*dmbNkD5D-u45r44go_cf0g.png\" width=\"32\"/>', 'No Alt: <img alt=\"\" class=\"bg mw oc c\" height=\"467\" loading=\"eager\" role=\"presentation\" width=\"700\"/>', 'No Alt: <img alt=\"\" class=\"l fc bx by bz cw\" height=\"32\" loading=\"lazy\" role=\"presentation\" src=\"https://miro.medium.com/v2/resize:fill:64:64/1*dmbNkD5D-u45r44go_cf0g.png\" width=\"32\"/>', 'No Alt: <img alt=\"\" class=\"bg mw oc c\" height=\"467\" loading=\"eager\" role=\"presentation\" width=\"700\"/>']\n"
     ]
    }
   ],
   "source": [
    "# Call the function to see the results\n",
    "seo_analysis(\"https://medium.com/better-marketing/how-to-track-seo-content-performance-and-automate-your-seo-reports-for-free-57b95ba09026\")"
   ]
  },
  {
   "cell_type": "markdown",
   "id": "3737fbd6",
   "metadata": {},
   "source": [
    "### Example form National Care Group"
   ]
  },
  {
   "cell_type": "code",
   "execution_count": 4,
   "id": "bc75dfb7",
   "metadata": {},
   "outputs": [
    {
     "name": "stdout",
     "output_type": "stream",
     "text": [
      "Keywords:  [('incontinence', 75), ('urinary', 52), ('skin', 28), ('diaper', 26), ('bladder', 25), ('urine', 23), ('leakage', 20), ('care', 19), ('soft', 19), ('comfortable', 19)]\n",
      " \n",
      "Bigrams Keywords:  [(('.', '-'), 51), (('urinary', 'incontinence'), 47), (('of', 'the'), 22), (('the', 'bladder'), 20), ((',', 'and'), 20), (('to', 'the'), 19), (('the', 'diaper'), 19), ((',', 'which'), 18), (('the', 'skin'), 18), (('of', 'urinary'), 16)]\n",
      " \n",
      "The Good:  ['Title Exists! Great!', 'h4-->Your Complete Guide to Understanding Urinary Incontinence and Its Treatment Methods', 'h4-->Your Complete Guide to Understanding Urinary Incontinence and Its Treatment Methods', 'h1-->Urinary incontinence is a disease that refers to the inability to control or control the bladder, which leads to leakage of urine, although the likelihood of developing it increases with age; however, it is not related to a specific age, gender, or even the stage of aging.', 'h2-->What is the reason for the occurrence of urinary incontinence?', 'h3-->1- Causes of temporary or short-term urinary incontinence:', 'h2-->2- Causes of permanent or long-term urinary incontinence', 'h2-->How do I know I have urinary incontinence?', 'h3-->Urine leakage:', 'h3-->Urge to urinate:', 'h3-->Loss of bladder control:', 'h3-->Nocturnal urination \"during sleep\":', 'h3-->Incomplete urination:', 'h3-->Feeling pain or burning while urinating:', 'h2-->What are the types and degrees of urinary incontinence?', 'h3-->Mild urinary incontinence:', 'h3-->Moderate urinary incontinence:', 'h3-->Severe urinary incontinence:', 'h2-->As for the types of urinary incontinence, they are as follows:', 'h3-->Stress urinary incontinence', 'h3-->Urge incontinence', 'h3-->Flood urinary incontinence', 'h3-->Functional urinary incontinence', 'h2-->What factors increase the risk of urinary incontinence?', 'h3-->Family history and heredity:', 'h3-->Age:', 'h3-->Weight gain:', 'h3-->Gender:', 'h3-->Smoking:', 'h3-->Some diseases:', 'h1-->How can urinary incontinence be detected?', 'h3-->Physical examination:', 'h3-->Urinalysis:', 'h3-->Ultrasound of the bladder:', 'h3-->Stress test:', 'h3-->Endoscope:', 'h3-->Pad test:', 'h2-->How to get rid of urinary incontinence and its treatment?', 'h3-->Maintain a healthy weight', 'h3-->Changing drinking habits', 'h3-->Pelvic floor exercises', 'h2-->The best methods of treating urinary incontinence', 'h3-->1- Behavioral techniques', 'h3-->2- Pelvic floor muscle exercises', 'h3-->3- Drug therapy', 'h3-->Anticholinergics:', 'h3-->Mirabegron:', 'h3-->Alpha receptor blockers:', 'h3-->Topical estrogen:', 'h2-->What products make life easier for incontinence sufferers', \"h3-->Men's products\", \"h3-->Women's products\", 'h3-->Incontinence Lady Pad', 'h3-->It comes with a wide adhesive tape that can be used to securely and firmly fix the pads in underwear, these pads are made of high-quality cotton material with 3 absorbent layers.', 'h3-->Unisex products', 'h3-->Fixpants Short:', 'h3-->Underpads:', 'h3-->Diapers', 'h4-->Related Products', 'h4-->1 Packet\\n                                                                                    3.000 د.ك', 'h4-->6 Packet\\n                                                                                    17.000 د.ك \\n18.000', 'h4-->12 Packet\\n                                                                                    32.000 د.ك \\n36.000', 'h4-->1 Packet\\n                                                                                    5.000 د.ك', 'h4-->4 Packets\\n                                                                                    17.500 د.ك \\n20.000', 'h4-->1 Packet\\n                                                                                    3.000 د.ك', 'h4-->6 Packets\\n                                                                                    16.500 د.ك \\n18.000', 'h4-->12 Packets\\n                                                                                    32.000 د.ك \\n36.000', 'h4-->1 Packet\\n                                                                                    5.500 د.ك', 'h4-->4 Packet\\n                                                                                    19.500 د.ك \\n22.500', 'h4-->1 Packet\\n                                                                                    5.000 د.ك', 'h4-->4 Packet\\n                                                                                    17.500 د.ك \\n20.000', 'h4-->1 Piece\\n                                                                                    3.000 د.ك', 'h4-->3 Pieces\\n                                                                                    7.500 د.ك \\n9.000', 'h4-->1 Packet\\n                                                                                    9.500 د.ك \\n11.500', 'h4-->4 Packet\\n                                                                                    35.000 د.ك \\n46.000', 'h4-->1 Packet\\n                                                                                    8.000 د.ك', 'h4-->4 Packet\\n                                                                                    30.500 د.ك \\n32.000', 'h4-->1 Pack\\n                                                                                    3.500 د.ك \\n3.750', 'h4-->8 Packs\\n                                                                                    26.000 د.ك \\n30.000', 'h4-->1 Packet\\n                                                                                    5.250 د.ك', 'h4-->6 Packet\\n                                                                                    30.000 د.ك \\n31.500', 'h4-->1 Packet\\n                                                                                    11.500 د.ك \\n13.000', 'h4-->3 Packet\\n                                                                                    32.500 د.ك \\n39.000', 'h4-->payment method', 'h4-->Our Social media Platform', 'h4-->Terms and Conditions', 'h3-->أختر موقع التوصيل', 'h5-->المنزل', 'h5-->العمل', 'h5-->التوصيل الى موقعى الحالى', 'h4-->المساعدة']\n",
      " \n",
      "The Bad:  ['Description does not exist! Add a Meta Description', 'No Alt: <img alt=\"\" src=\"https://national-g.com/front/images/new/home.svg\"/>', 'No Alt: <img alt=\"\" src=\"https://national-g.com/front/images/new/reorder.png\"/>', 'No Alt: <img alt=\"\" src=\"https://national-g.com/front/images/new/bag.svg\"/>', 'No Alt: <img alt=\"\" src=\"https://national-g.com/front/images/new/support.svg\"/>', 'No Alt: <img alt=\"\" src=\"https://national-g.com/front/images/new/user.svg\"/>', 'No Alt: <img alt=\"\" src=\"https://national-g.com/storage/images/settings/FGQhjV9XFw7U5Tdhiq0NtTGxvpchVoLciZELFqRo.png\"/>', 'No Alt: <img alt=\"\" src=\"https://national-g.com/front/images/new/search.svg\"/>', 'No Alt: <img alt=\"\" src=\"https://national-g.com/front/images/new/logo.png\"/>', 'No Alt: <img alt=\"\" src=\"https://national-g.com/front/images/new/lang.svg\"/>', 'No Alt: <img alt=\"\" src=\"https://national-g.com/front/images/new/user.svg\"/>', 'No Alt: <img alt=\"\" src=\"https://national-g.com/front/images/new/arrow.svg\"/>', 'No Alt: <img alt=\"\" class=\"full\" src=\"https://national-g.com/storage/images/articles/2024-01-13-دليلك الكامل للتعرف على سلس البول وطرق علاجه (4).png.webp\"/>', 'No Alt: <img alt=\"\" src=\"https://national-g.com/front/images/new/arrow.svg\"/>', 'No Alt: <img alt=\"\" class=\"full\" src=\"https://national-g.com/storage/images/articles/2024-01-13-دليلك الكامل للتعرف على سلس البول وطرق علاجه.png.webp\"/>', 'No Alt: <img alt=\"\" src=\"https://national-g.com/front/images/new/arrow.svg\"/>', 'No Alt: <img height=\"401\" src=\"https://lh7-us.googleusercontent.com/tITCAI-2sF6ZW-bKWWaoseCyFNGiZqxmITY4PuUgwOrsjv5Pt7bDx0lMndQS92H2PoBNtDNj68IUG3hJ2L9bG3NW6h-j3wf9oeAypo-L3LuO0D2WVp9LtEck1LYvu3CRqTIinEFcF3vXAeTMckhki-A\" width=\"602\"/>', 'No Alt: <img alt=\"\" class=\"full-img\" src=\"https://national-g.com/storage/images/mainProduct/2023-07-18-فوط صحية للسلس البولي.png.webp\"/>', 'No Alt: <img alt=\"\" src=\"https://national-g.com/front/images/new/heart-filled.svg\"/>', 'No Alt: <img alt=\"\" class=\"full-img\" src=\"https://national-g.com/storage/images/mainProduct/2023-07-03-ليدى بانتس لسلس البول ميديوم- مولي كير.png.webp\"/>', 'No Alt: <img alt=\"\" src=\"https://national-g.com/front/images/new/heart-filled.svg\"/>', 'No Alt: <img alt=\"\" class=\"full-img\" src=\"https://national-g.com/storage/images/mainProduct/2023-07-03-جارد رجالى للسلس البولى - مولى كير.png.webp\"/>', 'No Alt: <img alt=\"\" src=\"https://national-g.com/front/images/new/heart-filled.svg\"/>', 'No Alt: <img alt=\"\" class=\"full-img\" src=\"https://national-g.com/storage/images/mainProduct/2023-07-03-بانتس رجالى لسلس البول لارج - مولي كير.png.webp\"/>', 'No Alt: <img alt=\"\" src=\"https://national-g.com/front/images/new/heart-filled.svg\"/>', 'No Alt: <img alt=\"\" class=\"full-img\" src=\"https://national-g.com/storage/images/mainProduct/2023-07-04-بانتس رجالى لسلس البول ميديوم - مولي كير.png.webp\"/>', 'No Alt: <img alt=\"\" src=\"https://national-g.com/front/images/new/heart-filled.svg\"/>', 'No Alt: <img alt=\"\" class=\"full-img\" src=\"https://national-g.com/storage/images/mainProduct/2023-07-18-شورت طويل لسلس البول - مولي كير.png.webp\"/>', 'No Alt: <img alt=\"\" src=\"https://national-g.com/front/images/new/heart-filled.svg\"/>', 'No Alt: <img alt=\"\" class=\"full-img\" src=\"https://national-g.com/storage/images/mainProduct/2023-07-03-WhatsApp Image 2023-07-03 at 8.18.54 PM.jpeg.webp\"/>', 'No Alt: <img alt=\"\" src=\"https://national-g.com/front/images/new/heart-filled.svg\"/>', 'No Alt: <img alt=\"\" class=\"full-img\" src=\"https://national-g.com/storage/images/mainProduct/2023-06-27-حفاش شورت اكتيف اكس لارج.png.webp\"/>', 'No Alt: <img alt=\"\" src=\"https://national-g.com/front/images/new/heart-filled.svg\"/>', 'No Alt: <img alt=\"\" class=\"full-img\" src=\"https://national-g.com/storage/images/mainProduct/2023-10-18-Nateen-Flexi-Plus L.png.webp\"/>', 'No Alt: <img alt=\"\" src=\"https://national-g.com/front/images/new/heart-filled.svg\"/>', 'No Alt: <img alt=\"\" class=\"full-img\" src=\"https://national-g.com/storage/images/mainProduct/2023-06-27-حفاش لاصق فلوفسان لارج.png.webp\"/>', 'No Alt: <img alt=\"\" src=\"https://national-g.com/front/images/new/heart-filled.svg\"/>', 'No Alt: <img alt=\"\" class=\"full-img\" src=\"https://national-g.com/storage/images/mainProduct/2023-06-27-حفاض لاصق مولي كير لارج.png.webp\"/>', 'No Alt: <img alt=\"\" src=\"https://national-g.com/front/images/new/heart-filled.svg\"/>', 'No Alt: <img src=\"https://national-g.com/124034.png\" style=\"width: 42px;margin-top: 5px;margin-left: 2px;\"/>', 'No Alt: <img alt=\"\" src=\"https://national-g.com/front/images/new/payment.png\"/>', 'No Alt: <img alt=\"\" src=\"https://national-g.com/front/images/new/insta.svg\"/>', 'No Alt: <img alt=\"\" src=\"https://national-g.com/front/images/new/face.svg\"/>', 'No Alt: <img alt=\"\" src=\"https://national-g.com/front/images/new/social/linkedin.svg\"/>', 'No Alt: <img alt=\"\" src=\"https://national-g.com/front/images/new/social/youtube.svg\"/>', 'No Alt: <img alt=\"\" src=\"https://national-g.com/front/images/new/profile-terms.svg\"/>', 'No Alt: <img alt=\"\" src=\"https://national-g.com/front/images/new/profile-terms.svg\"/>', 'No Alt: <img alt=\"\" src=\"https://national-g.com/front/images/new/profile-addresses.svg\"/>', 'No Alt: <img alt=\"\" src=\"https://national-g.com/front/images/new/profile-addresses.svg\"/>', 'No Alt: <img alt=\"\" src=\"https://national-g.com/front/images/new/geo-location.svg\"/>', 'No Alt: <img alt=\"\" src=\"https://national-g.com/front/images/new/home.svg\"/>', 'No Alt: <img alt=\"\" src=\"https://national-g.com/front/images/new/reorder.png\"/>', 'No Alt: <img alt=\"\" src=\"https://national-g.com/front/images/new/bag.svg\"/>', 'No Alt: <img alt=\"\" src=\"https://national-g.com/front/images/new/support.svg\"/>', 'No Alt: <img alt=\"\" src=\"https://national-g.com/front/images/new/user.svg\"/>', 'No Alt: <img alt=\"\" src=\"https://national-g.com/storage/images/settings/FGQhjV9XFw7U5Tdhiq0NtTGxvpchVoLciZELFqRo.png\"/>', 'No Alt: <img alt=\"\" src=\"https://national-g.com/front/images/new/search.svg\"/>', 'No Alt: <img alt=\"\" src=\"https://national-g.com/front/images/new/logo.png\"/>', 'No Alt: <img alt=\"\" src=\"https://national-g.com/front/images/new/lang.svg\"/>', 'No Alt: <img alt=\"\" src=\"https://national-g.com/front/images/new/user.svg\"/>', 'No Alt: <img alt=\"\" src=\"https://national-g.com/front/images/new/arrow.svg\"/>', 'No Alt: <img alt=\"\" class=\"full\" src=\"https://national-g.com/storage/images/articles/2024-01-13-دليلك الكامل للتعرف على سلس البول وطرق علاجه (4).png.webp\"/>', 'No Alt: <img alt=\"\" src=\"https://national-g.com/front/images/new/arrow.svg\"/>', 'No Alt: <img alt=\"\" class=\"full\" src=\"https://national-g.com/storage/images/articles/2024-01-13-دليلك الكامل للتعرف على سلس البول وطرق علاجه.png.webp\"/>', 'No Alt: <img alt=\"\" src=\"https://national-g.com/front/images/new/arrow.svg\"/>', 'No Alt: <img height=\"401\" src=\"https://lh7-us.googleusercontent.com/tITCAI-2sF6ZW-bKWWaoseCyFNGiZqxmITY4PuUgwOrsjv5Pt7bDx0lMndQS92H2PoBNtDNj68IUG3hJ2L9bG3NW6h-j3wf9oeAypo-L3LuO0D2WVp9LtEck1LYvu3CRqTIinEFcF3vXAeTMckhki-A\" width=\"602\"/>', 'No Alt: <img alt=\"\" class=\"full-img\" src=\"https://national-g.com/storage/images/mainProduct/2023-07-18-فوط صحية للسلس البولي.png.webp\"/>', 'No Alt: <img alt=\"\" src=\"https://national-g.com/front/images/new/heart-filled.svg\"/>', 'No Alt: <img alt=\"\" class=\"full-img\" src=\"https://national-g.com/storage/images/mainProduct/2023-07-03-ليدى بانتس لسلس البول ميديوم- مولي كير.png.webp\"/>', 'No Alt: <img alt=\"\" src=\"https://national-g.com/front/images/new/heart-filled.svg\"/>', 'No Alt: <img alt=\"\" class=\"full-img\" src=\"https://national-g.com/storage/images/mainProduct/2023-07-03-جارد رجالى للسلس البولى - مولى كير.png.webp\"/>', 'No Alt: <img alt=\"\" src=\"https://national-g.com/front/images/new/heart-filled.svg\"/>', 'No Alt: <img alt=\"\" class=\"full-img\" src=\"https://national-g.com/storage/images/mainProduct/2023-07-03-بانتس رجالى لسلس البول لارج - مولي كير.png.webp\"/>', 'No Alt: <img alt=\"\" src=\"https://national-g.com/front/images/new/heart-filled.svg\"/>', 'No Alt: <img alt=\"\" class=\"full-img\" src=\"https://national-g.com/storage/images/mainProduct/2023-07-04-بانتس رجالى لسلس البول ميديوم - مولي كير.png.webp\"/>', 'No Alt: <img alt=\"\" src=\"https://national-g.com/front/images/new/heart-filled.svg\"/>', 'No Alt: <img alt=\"\" class=\"full-img\" src=\"https://national-g.com/storage/images/mainProduct/2023-07-18-شورت طويل لسلس البول - مولي كير.png.webp\"/>', 'No Alt: <img alt=\"\" src=\"https://national-g.com/front/images/new/heart-filled.svg\"/>', 'No Alt: <img alt=\"\" class=\"full-img\" src=\"https://national-g.com/storage/images/mainProduct/2023-07-03-WhatsApp Image 2023-07-03 at 8.18.54 PM.jpeg.webp\"/>', 'No Alt: <img alt=\"\" src=\"https://national-g.com/front/images/new/heart-filled.svg\"/>', 'No Alt: <img alt=\"\" class=\"full-img\" src=\"https://national-g.com/storage/images/mainProduct/2023-06-27-حفاش شورت اكتيف اكس لارج.png.webp\"/>', 'No Alt: <img alt=\"\" src=\"https://national-g.com/front/images/new/heart-filled.svg\"/>', 'No Alt: <img alt=\"\" class=\"full-img\" src=\"https://national-g.com/storage/images/mainProduct/2023-10-18-Nateen-Flexi-Plus L.png.webp\"/>', 'No Alt: <img alt=\"\" src=\"https://national-g.com/front/images/new/heart-filled.svg\"/>', 'No Alt: <img alt=\"\" class=\"full-img\" src=\"https://national-g.com/storage/images/mainProduct/2023-06-27-حفاش لاصق فلوفسان لارج.png.webp\"/>', 'No Alt: <img alt=\"\" src=\"https://national-g.com/front/images/new/heart-filled.svg\"/>', 'No Alt: <img alt=\"\" class=\"full-img\" src=\"https://national-g.com/storage/images/mainProduct/2023-06-27-حفاض لاصق مولي كير لارج.png.webp\"/>', 'No Alt: <img alt=\"\" src=\"https://national-g.com/front/images/new/heart-filled.svg\"/>', 'No Alt: <img src=\"https://national-g.com/124034.png\" style=\"width: 42px;margin-top: 5px;margin-left: 2px;\"/>', 'No Alt: <img alt=\"\" src=\"https://national-g.com/front/images/new/payment.png\"/>', 'No Alt: <img alt=\"\" src=\"https://national-g.com/front/images/new/insta.svg\"/>', 'No Alt: <img alt=\"\" src=\"https://national-g.com/front/images/new/face.svg\"/>', 'No Alt: <img alt=\"\" src=\"https://national-g.com/front/images/new/social/linkedin.svg\"/>', 'No Alt: <img alt=\"\" src=\"https://national-g.com/front/images/new/social/youtube.svg\"/>', 'No Alt: <img alt=\"\" src=\"https://national-g.com/front/images/new/profile-terms.svg\"/>', 'No Alt: <img alt=\"\" src=\"https://national-g.com/front/images/new/profile-terms.svg\"/>', 'No Alt: <img alt=\"\" src=\"https://national-g.com/front/images/new/profile-addresses.svg\"/>', 'No Alt: <img alt=\"\" src=\"https://national-g.com/front/images/new/profile-addresses.svg\"/>', 'No Alt: <img alt=\"\" src=\"https://national-g.com/front/images/new/geo-location.svg\"/>']\n"
     ]
    }
   ],
   "source": [
    "# Call the function to see the results\n",
    "seo_analysis(\"https://national-g.com/en/articles/98/%D8%AF%D9%84%D9%8A%D9%84%D9%83-%D8%A7%D9%84%D9%83%D8%A7%D9%85%D9%84-%D9%84%D9%84%D8%AA%D8%B9%D8%B1%D9%81-%D8%B9%D9%84%D9%89-%D8%B3%D9%84%D8%B3-%D8%A7%D9%84%D8%A8%D9%88%D9%84-%D9%88%D8%B7%D8%B1%D9%82-%D8%B9%D9%84%D8%A7%D8%AC%D9%87\")"
   ]
  },
  {
   "cell_type": "code",
   "execution_count": null,
   "id": "97d9d2eb",
   "metadata": {},
   "outputs": [],
   "source": []
  }
 ],
 "metadata": {
  "kernelspec": {
   "display_name": "Python 3 (ipykernel)",
   "language": "python",
   "name": "python3"
  },
  "language_info": {
   "codemirror_mode": {
    "name": "ipython",
    "version": 3
   },
   "file_extension": ".py",
   "mimetype": "text/x-python",
   "name": "python",
   "nbconvert_exporter": "python",
   "pygments_lexer": "ipython3",
   "version": "3.11.4"
  }
 },
 "nbformat": 4,
 "nbformat_minor": 5
}
